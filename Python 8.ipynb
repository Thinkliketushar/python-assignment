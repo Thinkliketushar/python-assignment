{
 "cells": [
  {
   "cell_type": "markdown",
   "id": "708d4280",
   "metadata": {},
   "source": [
    "# 1. Is the Python Standard Library included with PyInputPlus?\n",
    "no"
   ]
  },
  {
   "cell_type": "markdown",
   "id": "aba636f8",
   "metadata": {},
   "source": [
    "# 2. Why is PyInputPlus commonly imported with import pyinputplus as pypi?\n",
    "import pyinputplus as pyip because you can enter a shorter name when calling the module's function."
   ]
  },
  {
   "cell_type": "markdown",
   "id": "df1a55af",
   "metadata": {},
   "source": [
    "# 3. How do you distinguish between inputInt() and inputFloat()?\n",
    "inputInt() function Accepts an integer value and inputFloat() function Accepts a floating-point numeric value."
   ]
  },
  {
   "cell_type": "markdown",
   "id": "4a208dc4",
   "metadata": {},
   "source": [
    "# 4. Using PyInputPlus, how do you ensure that the user enters a whole number between 0 and 99?\n",
    "using min and max attribute"
   ]
  },
  {
   "cell_type": "markdown",
   "id": "9c0e461c",
   "metadata": {},
   "source": [
    "# 5. What is transferred to the keyword arguments allowRegexes and blockRegexes?\n",
    "both"
   ]
  },
  {
   "cell_type": "markdown",
   "id": "e2758621",
   "metadata": {},
   "source": [
    "# 6. If a blank input is entered three times, what does inputStr(limit=3) do?ValidationException\n",
    "ValidationException and RetryLimitException"
   ]
  },
  {
   "cell_type": "markdown",
   "id": "beb01c15",
   "metadata": {},
   "source": [
    "# 7. If blank input is entered three times, what does inputStr(limit=3, default=&#39;hello&#39;) do?\n",
    "return hello because of default"
   ]
  },
  {
   "cell_type": "code",
   "execution_count": null,
   "id": "44089245",
   "metadata": {},
   "outputs": [],
   "source": []
  }
 ],
 "metadata": {
  "kernelspec": {
   "display_name": "Python 3 (ipykernel)",
   "language": "python",
   "name": "python3"
  },
  "language_info": {
   "codemirror_mode": {
    "name": "ipython",
    "version": 3
   },
   "file_extension": ".py",
   "mimetype": "text/x-python",
   "name": "python",
   "nbconvert_exporter": "python",
   "pygments_lexer": "ipython3",
   "version": "3.9.12"
  }
 },
 "nbformat": 4,
 "nbformat_minor": 5
}
