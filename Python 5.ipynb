{
 "cells": [
  {
   "cell_type": "markdown",
   "id": "180c32eb",
   "metadata": {},
   "source": [
    "# 1. What does an empty dictionary&#39;s code look like?\n",
    "d = {} or d = dict()"
   ]
  },
  {
   "cell_type": "markdown",
   "id": "2f680c25",
   "metadata": {},
   "source": [
    "# 2.what is the value of dictionary value with key 'foo' and the value 42 ?\n",
    "{'foo':42}"
   ]
  },
  {
   "cell_type": "markdown",
   "id": "626bb6d5",
   "metadata": {},
   "source": [
    "# 3.What is the most significant distinction between a dictionary and a list?\n",
    "list = [] and dictionary = {}"
   ]
  },
  {
   "cell_type": "markdown",
   "id": "47d09c11",
   "metadata": {},
   "source": [
    "# 4.What happens if you try to access spam ['foo'] if spam is {'bar':100} ?\n",
    "keyerror"
   ]
  },
  {
   "cell_type": "markdown",
   "id": "86a3c15c",
   "metadata": {},
   "source": [
    "# 5.if a dictionary is stored in spam,what is the difference between the expressions 'cat' in spam and 'cat' in spam.keys() ?\n",
    "no diffrence"
   ]
  },
  {
   "cell_type": "markdown",
   "id": "bed0b205",
   "metadata": {},
   "source": [
    "# 6. If a dictionary is stored in spam, what is the difference between the expressions &#39;cat&#39; in spam and &#39;cat&#39; in spam.values()?\n",
    "cat in spam check key and spam.value() check value fo cat"
   ]
  },
  {
   "cell_type": "markdown",
   "id": "b242ca05",
   "metadata": {},
   "source": [
    "# 7. What is a shortcut for the following code? if &#39;color&#39; not in spam: spam[&#39;color&#39;] = &#39;black&#39;\n",
    "\n",
    "it's mean is color item is not present in a datatype then color convert to black as default."
   ]
  },
  {
   "cell_type": "markdown",
   "id": "5238dade",
   "metadata": {},
   "source": [
    "# 8.How do you 'pretty print' dictionary values using which modules and function ?"
   ]
  },
  {
   "cell_type": "code",
   "execution_count": 2,
   "id": "dd16fe30",
   "metadata": {},
   "outputs": [],
   "source": [
    "dict1 = [\n",
    "  {'Name': 'tuhsar1', 'Age': '23', 'Residence': {'Country':'india', 'City': 'ghaziabad'}},\n",
    "  {'Name': 'tushar2', 'Age': '24', 'Residence': {'Country':'Spain', 'City': 'Madrid'}},\n",
    "  {'Name': 'tushar3', 'Age': '29', 'Residence': {'Country':'UK', 'City': 'England'}},\n",
    "  {'Name': 'tushar3', 'Age': '25', 'Residence': {'Country':'Japan', 'City': 'Osaka'}}\n",
    "]"
   ]
  },
  {
   "cell_type": "code",
   "execution_count": null,
   "id": "114b0d67",
   "metadata": {},
   "outputs": [],
   "source": []
  }
 ],
 "metadata": {
  "kernelspec": {
   "display_name": "Python 3 (ipykernel)",
   "language": "python",
   "name": "python3"
  },
  "language_info": {
   "codemirror_mode": {
    "name": "ipython",
    "version": 3
   },
   "file_extension": ".py",
   "mimetype": "text/x-python",
   "name": "python",
   "nbconvert_exporter": "python",
   "pygments_lexer": "ipython3",
   "version": "3.9.12"
  }
 },
 "nbformat": 4,
 "nbformat_minor": 5
}
