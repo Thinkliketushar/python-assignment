{
 "cells": [
  {
   "cell_type": "markdown",
   "id": "59f27337",
   "metadata": {},
   "source": [
    "# 1. To what does a relative path refer?\n",
    "file with respect to your current working directory (PWD)."
   ]
  },
  {
   "cell_type": "markdown",
   "id": "d232227d",
   "metadata": {},
   "source": [
    "# 2. What does an absolute path start with your operating system?\n",
    "linux / window c:"
   ]
  },
  {
   "cell_type": "markdown",
   "id": "6d215454",
   "metadata": {},
   "source": [
    "# 3. What do the functions os.getcwd() and os.chdir() do?\n",
    "os.getcwd() method tells us the location of current working directory (CWD). Whereas os.chdir() method in Python used to change the current working directory to specified path."
   ]
  },
  {
   "cell_type": "markdown",
   "id": "a640beb5",
   "metadata": {},
   "source": [
    "# 4. What are the . and .. folders?\n",
    ". Represents the Current Directory Whereas .. Represents the Parent Directory of the Current Directory"
   ]
  },
  {
   "cell_type": "markdown",
   "id": "90a7ced6",
   "metadata": {},
   "source": [
    "# 5. In C:\\bacon\\eggs\\spam.txt, which part is the dir name, and which part is the base name?\n",
    "The dir name is C:\\\\bacon\\\\eggs\n",
    "The Base name is spam.txt"
   ]
  },
  {
   "cell_type": "markdown",
   "id": "96396867",
   "metadata": {},
   "source": [
    "# 6. What are the three “mode” arguments that can be passed to the open() function?\n",
    "filename, mode"
   ]
  },
  {
   "cell_type": "markdown",
   "id": "e112d846",
   "metadata": {},
   "source": [
    "# 7. What happens if an existing file is opened in write mode?\n",
    "Using this mode will overwrite any existing content in a file."
   ]
  },
  {
   "cell_type": "markdown",
   "id": "9611cc8a",
   "metadata": {},
   "source": [
    "# 8. How do you tell the difference between read() and readlines()?\n",
    "read() will read the whole file at once and readline() that will read and print out only the first characters"
   ]
  },
  {
   "cell_type": "markdown",
   "id": "c1e8b0ee",
   "metadata": {},
   "source": [
    "# 9. What data structure does a shelf value resemble?\n",
    "it contains key and values it represents dictionary."
   ]
  },
  {
   "cell_type": "code",
   "execution_count": null,
   "id": "7357bcc1",
   "metadata": {},
   "outputs": [],
   "source": []
  }
 ],
 "metadata": {
  "kernelspec": {
   "display_name": "Python 3 (ipykernel)",
   "language": "python",
   "name": "python3"
  },
  "language_info": {
   "codemirror_mode": {
    "name": "ipython",
    "version": 3
   },
   "file_extension": ".py",
   "mimetype": "text/x-python",
   "name": "python",
   "nbconvert_exporter": "python",
   "pygments_lexer": "ipython3",
   "version": "3.9.12"
  }
 },
 "nbformat": 4,
 "nbformat_minor": 5
}
