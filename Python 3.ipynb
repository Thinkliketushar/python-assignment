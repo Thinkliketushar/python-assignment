{
 "cells": [
  {
   "cell_type": "markdown",
   "id": "ab1af105",
   "metadata": {},
   "source": [
    "# 1. Why are functions advantageous to have in your programs?\n",
    "becasue of code Reusability"
   ]
  },
  {
   "cell_type": "markdown",
   "id": "822b8be7",
   "metadata": {},
   "source": [
    "# 2. When does the code in a function run: when it;s specified or when it's called?\n",
    "When the function is called."
   ]
  },
  {
   "cell_type": "markdown",
   "id": "891b9932",
   "metadata": {},
   "source": [
    "# 3. What statement creates a function?\n",
    "def function_name(parameters):"
   ]
  },
  {
   "cell_type": "markdown",
   "id": "ea52c0c2",
   "metadata": {},
   "source": [
    "# 4. What is the difference between a function and a function call?\n",
    "A function is procedure to achieve a particular result. function call is using the function to achive that task."
   ]
  },
  {
   "cell_type": "markdown",
   "id": "d329ab44",
   "metadata": {},
   "source": [
    "# 5. How many global scopes are there in a Python program? How many local scopes?\n",
    "1 global scope and local scope is created whenever a funcation is called."
   ]
  },
  {
   "cell_type": "markdown",
   "id": "741c3a54",
   "metadata": {},
   "source": [
    "# 6. What happens to variables in a local scope when the function call returns?\n",
    "whent function resturn then scope is destroyes and all the variable in it are forgotten."
   ]
  },
  {
   "cell_type": "markdown",
   "id": "c4bc2809",
   "metadata": {},
   "source": [
    "# 7. What is the concept of a return value? Is it possible to have a return value in an expression?\n",
    "Return value is a value that a function call evaluates to. value as a return can be a expression."
   ]
  },
  {
   "cell_type": "markdown",
   "id": "9de40d1c",
   "metadata": {},
   "source": [
    "# 8. If a function does not have a return statement, what is the return value of a call to that function?\n",
    "None"
   ]
  },
  {
   "cell_type": "markdown",
   "id": "26bd893a",
   "metadata": {},
   "source": [
    "# 9. How do you make a function variable refer to the global variable?\n",
    " A global statement will force a variable in a function to refer to the global variable."
   ]
  },
  {
   "cell_type": "markdown",
   "id": "12b66a74",
   "metadata": {},
   "source": [
    "# 10. What is the data type of None?\n",
    "NoneType"
   ]
  },
  {
   "cell_type": "markdown",
   "id": "59179c0b",
   "metadata": {},
   "source": [
    "# 11. What does the sentence import areallyourpetsnamederic do?\n",
    "ModuleNotFoundError: No module named 'areallyourpetsnamederic'"
   ]
  },
  {
   "cell_type": "code",
   "execution_count": 1,
   "id": "f6a831b6",
   "metadata": {},
   "outputs": [
    {
     "ename": "ModuleNotFoundError",
     "evalue": "No module named 'areallyourpetsnamederic'",
     "output_type": "error",
     "traceback": [
      "\u001b[1;31m---------------------------------------------------------------------------\u001b[0m",
      "\u001b[1;31mModuleNotFoundError\u001b[0m                       Traceback (most recent call last)",
      "Input \u001b[1;32mIn [1]\u001b[0m, in \u001b[0;36m<cell line: 1>\u001b[1;34m()\u001b[0m\n\u001b[1;32m----> 1\u001b[0m \u001b[38;5;28;01mimport\u001b[39;00m \u001b[38;5;21;01mareallyourpetsnamederic\u001b[39;00m\n",
      "\u001b[1;31mModuleNotFoundError\u001b[0m: No module named 'areallyourpetsnamederic'"
     ]
    }
   ],
   "source": [
    "import areallyourpetsnamederic"
   ]
  },
  {
   "cell_type": "markdown",
   "id": "84077d8e",
   "metadata": {},
   "source": [
    "# 12. If you had a bacon() feature in a spam module, what would you call it after importing spam?\n",
    "spam.bacon()"
   ]
  },
  {
   "cell_type": "markdown",
   "id": "cd65ecc6",
   "metadata": {},
   "source": [
    "# 13. What can you do to save a programme from crashing if it encounters an error?\n",
    "try and except block"
   ]
  },
  {
   "cell_type": "markdown",
   "id": "1fef0c93",
   "metadata": {},
   "source": [
    "# 14. What is the purpose of the try clause? What is the purpose of the except clause?\n",
    "The code that could potentially cause an error goes in the try clause. The code that executes if an error happens goes in the except clause."
   ]
  },
  {
   "cell_type": "code",
   "execution_count": null,
   "id": "878e114e",
   "metadata": {},
   "outputs": [],
   "source": []
  }
 ],
 "metadata": {
  "kernelspec": {
   "display_name": "Python 3 (ipykernel)",
   "language": "python",
   "name": "python3"
  },
  "language_info": {
   "codemirror_mode": {
    "name": "ipython",
    "version": 3
   },
   "file_extension": ".py",
   "mimetype": "text/x-python",
   "name": "python",
   "nbconvert_exporter": "python",
   "pygments_lexer": "ipython3",
   "version": "3.9.12"
  }
 },
 "nbformat": 4,
 "nbformat_minor": 5
}
