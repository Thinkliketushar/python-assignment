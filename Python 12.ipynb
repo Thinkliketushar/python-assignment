{
 "cells": [
  {
   "cell_type": "markdown",
   "id": "55a67e8f",
   "metadata": {},
   "source": [
    "# 1. In what modes should the PdfFileReader() and PdfFileWriter() File objects will be opened?\n",
    "PdfFileReader() rb -> read binary mode, Whereas for PdfFileWriter()  wb "
   ]
  },
  {
   "cell_type": "markdown",
   "id": "cb753ae4",
   "metadata": {},
   "source": [
    "# 2. From a PdfFileReader object, how do you get a Page object for page 5\n",
    "getPage(page_no)"
   ]
  },
  {
   "cell_type": "markdown",
   "id": "19eed2cb",
   "metadata": {},
   "source": [
    "# 3. What PdfFileReader variable stores the number of pages in the PDF document?\n",
    "getNumPages() method of PdfFileReader class"
   ]
  },
  {
   "cell_type": "markdown",
   "id": "1f1b030f",
   "metadata": {},
   "source": [
    "# 4. If a PdfFileReader object’s PDF is encrypted with the password swordfish, what must you do before you can obtain Page objects from it?\n",
    "first read the Pdf using the PdfFileReader Class. PdfFileReader class provides a attribute called isEncrypted to check whether a pdf is encrypted or not. the method returns true if a pdf is encrypted and vice versa."
   ]
  },
  {
   "cell_type": "markdown",
   "id": "14e65251",
   "metadata": {},
   "source": [
    "# 5. What methods do you use to rotate a page?\n",
    "rotateClockWise() -> For Clockwise rotation\n",
    "rotateCounterClockWise() -> For Counter Clockwise rotation"
   ]
  },
  {
   "cell_type": "markdown",
   "id": "40c4e1dc",
   "metadata": {},
   "source": [
    "# 6. What is the difference between a Run object and a Paragraph object?|}\n",
    "new Paragraph objects can be added only to the end of the document, and new Run objects can be added only to the end of a Paragraph object."
   ]
  },
  {
   "cell_type": "markdown",
   "id": "e82391a0",
   "metadata": {},
   "source": [
    "# 7. How do you obtain a list of Paragraph objects for a Document object that’s stored in a variable named doc?\n",
    "for paragraph in doc.paragraphs:\n",
    "    print(paragraph.text) "
   ]
  },
  {
   "cell_type": "markdown",
   "id": "518a52be",
   "metadata": {},
   "source": [
    "# 8. What type of object has bold, underline, italic, strike, and outline variables?\n",
    "Run"
   ]
  },
  {
   "cell_type": "markdown",
   "id": "15fc5952",
   "metadata": {},
   "source": [
    "# 9. What is the difference between False, True, and None for the bold variable?\n",
    "style for bold not bold and not applicable"
   ]
  },
  {
   "cell_type": "markdown",
   "id": "5f9b19c1",
   "metadata": {},
   "source": [
    "# 10. How do you create a Document object for a new Word document?\n",
    "from docx import Document\n",
    "document = Document()"
   ]
  },
  {
   "cell_type": "markdown",
   "id": "5a53010d",
   "metadata": {},
   "source": [
    "# 11. How do you add a paragraph with the text 'Hello, there!' to a Document object stored in a variable named doc?\n",
    "from docx import Document\n",
    "doc = Document()\n",
    "doc.add_paragraph('Hello, there!')"
   ]
  },
  {
   "cell_type": "markdown",
   "id": "ef30a455",
   "metadata": {},
   "source": [
    "# 12. What integers represent the levels of headings available in Word documents?\n",
    "level with attribute add heading that starting from 0 to 4"
   ]
  },
  {
   "cell_type": "code",
   "execution_count": null,
   "id": "3a2201bf",
   "metadata": {},
   "outputs": [],
   "source": []
  }
 ],
 "metadata": {
  "kernelspec": {
   "display_name": "Python 3 (ipykernel)",
   "language": "python",
   "name": "python3"
  },
  "language_info": {
   "codemirror_mode": {
    "name": "ipython",
    "version": 3
   },
   "file_extension": ".py",
   "mimetype": "text/x-python",
   "name": "python",
   "nbconvert_exporter": "python",
   "pygments_lexer": "ipython3",
   "version": "3.9.12"
  }
 },
 "nbformat": 4,
 "nbformat_minor": 5
}
