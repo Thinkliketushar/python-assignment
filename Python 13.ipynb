{
 "cells": [
  {
   "cell_type": "markdown",
   "id": "bdc1b411",
   "metadata": {},
   "source": [
    "# What advantages do Excel spreadsheets have over CSV spreadsheets?\n",
    "- Excel (XLS and XLSX) file formats are better for storing and analysing complex data\n",
    "- CSV files are plain-text files, Does not contain formatting, formulas, macros, etc. It is also known as flat files"
   ]
  },
  {
   "cell_type": "markdown",
   "id": "9250da45",
   "metadata": {},
   "source": [
    "# 2.What do you pass to csv.reader() and csv.writer() to create reader and writer objects?\n",
    "csv.reader(file,delimiter=',')"
   ]
  },
  {
   "cell_type": "markdown",
   "id": "6a1c26fe",
   "metadata": {},
   "source": [
    "# 3. What modes do File objects for reader and writer objects need to be opened in?\n",
    "For csv.reader(iterable_file_object), the file objects needed to be opened in read mode mode='r' Whereas for csv.writer(iterable_file_object) the file objects needed to be opened in write mode mode='w'"
   ]
  },
  {
   "cell_type": "markdown",
   "id": "ed1bef43",
   "metadata": {},
   "source": [
    "# 4. What method takes a list argument and writes it to a CSV file?\n",
    "writerow() and writerows()"
   ]
  },
  {
   "cell_type": "markdown",
   "id": "75fd0bb6",
   "metadata": {},
   "source": [
    "# 5. What do the keyword arguments delimiter and line terminator do?\n",
    "Here ',' is Delimiter. We can use any Character as per our needs if required"
   ]
  },
  {
   "cell_type": "markdown",
   "id": "9ca2b999",
   "metadata": {},
   "source": [
    "# 6. What function takes a string of JSON data and returns a Python data structure?\n",
    "loads()"
   ]
  },
  {
   "cell_type": "markdown",
   "id": "cf737a2f",
   "metadata": {},
   "source": [
    "# 7. What function takes a Python data structure and returns a string of JSON data?\n",
    "dump()"
   ]
  },
  {
   "cell_type": "code",
   "execution_count": null,
   "id": "d8e8b84b",
   "metadata": {},
   "outputs": [],
   "source": []
  }
 ],
 "metadata": {
  "kernelspec": {
   "display_name": "Python 3 (ipykernel)",
   "language": "python",
   "name": "python3"
  },
  "language_info": {
   "codemirror_mode": {
    "name": "ipython",
    "version": 3
   },
   "file_extension": ".py",
   "mimetype": "text/x-python",
   "name": "python",
   "nbconvert_exporter": "python",
   "pygments_lexer": "ipython3",
   "version": "3.9.12"
  }
 },
 "nbformat": 4,
 "nbformat_minor": 5
}
