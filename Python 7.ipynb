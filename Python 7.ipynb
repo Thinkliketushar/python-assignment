{
 "cells": [
  {
   "cell_type": "markdown",
   "id": "1f66996a",
   "metadata": {},
   "source": [
    "# 1. What is the name of the feature responsible for generating Regex objects?\n",
    "re.compile()"
   ]
  },
  {
   "cell_type": "markdown",
   "id": "00e1491d",
   "metadata": {},
   "source": [
    "# 2. Why do raw strings often appear in Regex objects?\n",
    "because Regular expressions use the backslash character ('\\') to indicate special forms."
   ]
  },
  {
   "cell_type": "markdown",
   "id": "d8e5be2a",
   "metadata": {},
   "source": [
    "# 3. What is the return value of the search() method?\n",
    "return value is object is present else none"
   ]
  },
  {
   "cell_type": "markdown",
   "id": "1ff8ef44",
   "metadata": {},
   "source": [
    "# 4. From a Match item, how do you get the actual strings that match the pattern?\n",
    "group() methods returns actual strings"
   ]
  },
  {
   "cell_type": "markdown",
   "id": "6a308611",
   "metadata": {},
   "source": [
    "# 5. In the regex which created from the r&#39;(\\d\\d\\d)-(\\d\\d\\d-\\d\\d\\d\\d)&#39;, what does group zero cover? Group 2? Group 1?\n",
    "- zero group cover entire pattern\n",
    "- group 1 cover (\\d\\d\\d)\n",
    "- group 2 cover (d\\d\\d -\\d\\d\\d\\d)"
   ]
  },
  {
   "cell_type": "markdown",
   "id": "b43b984c",
   "metadata": {},
   "source": [
    "# 6. In standard expression syntax, parentheses and intervals have distinct meanings. How can you tell a regex that you want it to fit real parentheses and periods?\n",
    "The \\. \\( and \\) escape characters in the raw string passed to re.compile() will match actual parenthesis characters."
   ]
  },
  {
   "cell_type": "markdown",
   "id": "67a3ef69",
   "metadata": {},
   "source": [
    "# 7. The findall() method returns a string list or a list of string tuples. What causes it to return one of the two options?\n",
    "if regex has no group then list of string return else tuple of string return."
   ]
  },
  {
   "cell_type": "markdown",
   "id": "fe89ad32",
   "metadata": {},
   "source": [
    "# 8. In standard expressions, what does the | character mean?\n",
    "or operator"
   ]
  },
  {
   "cell_type": "markdown",
   "id": "e02a6a22",
   "metadata": {},
   "source": [
    "# 9. In regular expressions, what does the ? character stand for?\n",
    "0 or single match"
   ]
  },
  {
   "cell_type": "markdown",
   "id": "9c89261f",
   "metadata": {},
   "source": [
    "# 10.In regular expressions, what is the difference between the + and * characters?\n",
    "- + = one or more occurances\n",
    "- * = zero or more occurances"
   ]
  },
  {
   "cell_type": "markdown",
   "id": "2603049c",
   "metadata": {},
   "source": [
    "# 11. What is the difference between {4} and {4,5} in regular expression?\n",
    "- {4} = only four digit number\n",
    "- {4,5} = minimum 4 and 5 is maximum"
   ]
  },
  {
   "cell_type": "markdown",
   "id": "8edab268",
   "metadata": {},
   "source": [
    "# 12. What do you mean by the \\d, \\w, and \\s shorthand character classes signify in regular expressions?\n",
    "- \\d for digit between 0 -9\n",
    "- \\w for word \n",
    "- \\s for space, newline ,etc"
   ]
  },
  {
   "cell_type": "markdown",
   "id": "de61f57f",
   "metadata": {},
   "source": [
    "# What do means by \\D, \\W, and \\S shorthand character classes signify in regular expressions?\n",
    "- \\d for digit between 0 -9\n",
    "- \\w for word\n",
    "- \\s for space, newline ,etc"
   ]
  },
  {
   "cell_type": "markdown",
   "id": "d07c872d",
   "metadata": {},
   "source": [
    "# 14. What is the difference between .*? and .*?\n",
    "- .* = longest string\n",
    "- .*? = shortest string"
   ]
  },
  {
   "cell_type": "markdown",
   "id": "8b97c3cc",
   "metadata": {},
   "source": [
    "# 15 What is the syntax for matching both numbers and lowercase letters with a character class?\n",
    "[a-z0-9] or [0-9a-z]"
   ]
  },
  {
   "cell_type": "markdown",
   "id": "eefe06bf",
   "metadata": {},
   "source": [
    "# 16. What is the procedure for making a normal expression in regax case insensitive?\n",
    "re.IGNORECASE"
   ]
  },
  {
   "cell_type": "markdown",
   "id": "1f08669e",
   "metadata": {},
   "source": [
    "# 17. What does the . character normally match? What does it match if re.DOTALL is passed as 2nd argument in re.compile()?\n",
    "Dot . character matches everything in input except newline character .. By passing re.DOTALL as a flag to re.compile(), you can make the dot character match all characters, including the newline character."
   ]
  },
  {
   "cell_type": "markdown",
   "id": "ea853cd7",
   "metadata": {},
   "source": [
    "# 18. If numReg = re.compile(r'\\d+'), what will numRegex.sub('X', '11 drummers, 10 pipers, five rings, 4 hen') return?\n",
    "The Ouput will be 'X drummers, X pipers, five rings, X hen'"
   ]
  },
  {
   "cell_type": "markdown",
   "id": "bbfa0599",
   "metadata": {},
   "source": [
    "# 19. What does passing re.VERBOSE as the 2nd argument to re.compile() allow to do?\n",
    "add white space and comment to string"
   ]
  },
  {
   "cell_type": "markdown",
   "id": "af892e00",
   "metadata": {},
   "source": [
    "# 20. How would you write a regex that match a number with comma for every three digits? It must match the given following:\n"
   ]
  },
  {
   "cell_type": "code",
   "execution_count": 3,
   "id": "ee93ea40",
   "metadata": {},
   "outputs": [],
   "source": [
    "import re\n",
    "pattern = r'^\\d{1,3}(,\\d{3})*$'"
   ]
  },
  {
   "cell_type": "markdown",
   "id": "27afbf62",
   "metadata": {},
   "source": [
    "# 21. How would you write a regex that matches the full name of someone whose last name is Watanabe? You can assume that the first name that comes before it will always be one word that begins with a capital letter. The regex must match the following:"
   ]
  },
  {
   "cell_type": "code",
   "execution_count": 4,
   "id": "1b116010",
   "metadata": {},
   "outputs": [],
   "source": [
    "pattern = r'[A-Z]{1}[a-z]*\\sWatanabe'"
   ]
  },
  {
   "cell_type": "markdown",
   "id": "b53e9aab",
   "metadata": {},
   "source": [
    "# 22. How would you write a regex that matches a sentence where the first word is either Alice, Bob,or Carol; the second word is either eats, pets, or throws; the third word is apples, cats, or baseballs; and the sentence ends with a period? This regex should be case-insensitive. It must match the following:"
   ]
  },
  {
   "cell_type": "code",
   "execution_count": 5,
   "id": "0177424b",
   "metadata": {},
   "outputs": [
    {
     "data": {
      "text/plain": [
       "'(Alice|Bob|Carol)\\\\s(eats|pets|throws)\\\\s(apples|cats|baseballs)\\\\.'"
      ]
     },
     "execution_count": 5,
     "metadata": {},
     "output_type": "execute_result"
    }
   ],
   "source": [
    "r'(Alice|Bob|Carol)\\s(eats|pets|throws)\\s(apples|cats|baseballs)\\.'"
   ]
  },
  {
   "cell_type": "code",
   "execution_count": null,
   "id": "dba16229",
   "metadata": {},
   "outputs": [],
   "source": []
  }
 ],
 "metadata": {
  "kernelspec": {
   "display_name": "Python 3 (ipykernel)",
   "language": "python",
   "name": "python3"
  },
  "language_info": {
   "codemirror_mode": {
    "name": "ipython",
    "version": 3
   },
   "file_extension": ".py",
   "mimetype": "text/x-python",
   "name": "python",
   "nbconvert_exporter": "python",
   "pygments_lexer": "ipython3",
   "version": "3.9.12"
  }
 },
 "nbformat": 4,
 "nbformat_minor": 5
}
