{
 "cells": [
  {
   "cell_type": "markdown",
   "id": "1c269b6c",
   "metadata": {},
   "source": [
    "##### Question 1 \n",
    "In the below elements which of them are values or an expression? eg:- values can be\n",
    "integer or string and expressions will be mathematical operators.\n",
    "\n",
    "- *\n",
    "- \"hello\"\n",
    "- -87.8\n",
    "- -\n",
    "- /\n",
    "- +\n",
    "- 6\n",
    "\n",
    "##### Answer\n",
    "\"hello\", -87.8 and 6 is value and others is expression"
   ]
  },
  {
   "cell_type": "markdown",
   "id": "38fb523b",
   "metadata": {},
   "source": [
    "##### Question 2\n",
    "What is the difference between string and variable?\n",
    "\n",
    "##### Answer 2\n",
    "String is a type of a value that stored in variable and variable is a memory location name that the value is stored.\n"
   ]
  },
  {
   "cell_type": "markdown",
   "id": "9ffe7241",
   "metadata": {},
   "source": [
    "##### Question 3\n",
    "Describe three different data types.\n",
    "\n",
    "##### Answer\n",
    "- interger like 34,56,23\n",
    "- String like \"hello\"\n",
    "- Bool like True and False\n"
   ]
  },
  {
   "cell_type": "markdown",
   "id": "f852c03d",
   "metadata": {},
   "source": [
    "##### Question 4\n",
    "What is an expression made up of? What do all expressions do?\n",
    "\n",
    "##### Answer\n",
    "- variable = values with operator and keyboard\n",
    "- Expression combination of constant, variable, data type, value, keywords and operator."
   ]
  },
  {
   "cell_type": "markdown",
   "id": "6ed1da14",
   "metadata": {},
   "source": [
    "##### Question 5\n",
    "\n",
    "This assignment statements, like spam = 10. What is the difference between an\n",
    "expression and a statement?\n",
    "\n",
    "##### Answer\n",
    "In statement we declare value and In expression, we can add methemetical operation, operator, condition , etc."
   ]
  },
  {
   "cell_type": "markdown",
   "id": "f8e294b9",
   "metadata": {},
   "source": [
    "##### Question 6\n",
    "After running the following code, what does the variable bacon contain?\n",
    "bacon = 22\n",
    "bacon + 1\n",
    "##### Answer\n",
    "23"
   ]
  },
  {
   "cell_type": "code",
   "execution_count": 3,
   "id": "9c3b57d0",
   "metadata": {},
   "outputs": [
    {
     "data": {
      "text/plain": [
       "23"
      ]
     },
     "execution_count": 3,
     "metadata": {},
     "output_type": "execute_result"
    }
   ],
   "source": [
    "bacon = 22\n",
    "bacon + 1"
   ]
  },
  {
   "cell_type": "markdown",
   "id": "6be9d2ee",
   "metadata": {},
   "source": [
    "##### Question 7\n",
    "What should the values of the following two terms be?\n",
    "\"spam\" + \"spamspam\"\n",
    "\"spam\" * 3\n",
    "\n",
    "##### Answer\n",
    "spamspamspam"
   ]
  },
  {
   "cell_type": "code",
   "execution_count": 6,
   "id": "538814af",
   "metadata": {},
   "outputs": [
    {
     "data": {
      "text/plain": [
       "'spamspamspam'"
      ]
     },
     "execution_count": 6,
     "metadata": {},
     "output_type": "execute_result"
    }
   ],
   "source": [
    "\"spam\" + \"spamspam\""
   ]
  },
  {
   "cell_type": "code",
   "execution_count": 7,
   "id": "90c6615f",
   "metadata": {},
   "outputs": [
    {
     "data": {
      "text/plain": [
       "'spamspamspam'"
      ]
     },
     "execution_count": 7,
     "metadata": {},
     "output_type": "execute_result"
    }
   ],
   "source": [
    "\"spam\" * 3"
   ]
  },
  {
   "cell_type": "markdown",
   "id": "d1675a79",
   "metadata": {},
   "source": [
    "##### Question 8\n",
    "Why is eggs a valid variable name while 100 is invalid?\n",
    "\n",
    "##### Answer\n",
    "bacause the variable is not started with number"
   ]
  },
  {
   "cell_type": "markdown",
   "id": "abea38cd",
   "metadata": {},
   "source": [
    "##### Question 9\n",
    "What three functions can be used to get the integer, floating-point number, or string\n",
    "version of a value?\n",
    "\n",
    "##### Answer\n",
    "int()  float()  and str( ) "
   ]
  },
  {
   "cell_type": "markdown",
   "id": "2e059205",
   "metadata": {},
   "source": [
    "##### Question 9\n",
    "Why does this expression cause an error? How can you fix it?\n",
    "\"I have eaten \" + 99 + \" burritos.\"\n",
    "\n",
    "##### Answer\n",
    "TypeError: can only concatenate str (not \"int\") to str\n",
    "- By using typecasting like in below code."
   ]
  },
  {
   "cell_type": "code",
   "execution_count": 9,
   "id": "e9019756",
   "metadata": {},
   "outputs": [
    {
     "ename": "TypeError",
     "evalue": "can only concatenate str (not \"int\") to str",
     "output_type": "error",
     "traceback": [
      "\u001b[1;31m---------------------------------------------------------------------------\u001b[0m",
      "\u001b[1;31mTypeError\u001b[0m                                 Traceback (most recent call last)",
      "Input \u001b[1;32mIn [9]\u001b[0m, in \u001b[0;36m<cell line: 1>\u001b[1;34m()\u001b[0m\n\u001b[1;32m----> 1\u001b[0m \u001b[38;5;124;43m\"\u001b[39;49m\u001b[38;5;124;43mI have eaten \u001b[39;49m\u001b[38;5;124;43m\"\u001b[39;49m\u001b[43m \u001b[49m\u001b[38;5;241;43m+\u001b[39;49m\u001b[43m \u001b[49m\u001b[38;5;241;43m99\u001b[39;49m \u001b[38;5;241m+\u001b[39m \u001b[38;5;124m\"\u001b[39m\u001b[38;5;124m burritos.\u001b[39m\u001b[38;5;124m\"\u001b[39m\n",
      "\u001b[1;31mTypeError\u001b[0m: can only concatenate str (not \"int\") to str"
     ]
    }
   ],
   "source": [
    "\"I have eaten \" + 99 + \" burritos.\""
   ]
  },
  {
   "cell_type": "code",
   "execution_count": 10,
   "id": "7bc71b62",
   "metadata": {},
   "outputs": [
    {
     "data": {
      "text/plain": [
       "'I have eaten 99 burritos.'"
      ]
     },
     "execution_count": 10,
     "metadata": {},
     "output_type": "execute_result"
    }
   ],
   "source": [
    "\"I have eaten \" + str(99) + \" burritos.\""
   ]
  },
  {
   "cell_type": "code",
   "execution_count": null,
   "id": "ecff25f7",
   "metadata": {},
   "outputs": [],
   "source": []
  }
 ],
 "metadata": {
  "kernelspec": {
   "display_name": "Python 3 (ipykernel)",
   "language": "python",
   "name": "python3"
  },
  "language_info": {
   "codemirror_mode": {
    "name": "ipython",
    "version": 3
   },
   "file_extension": ".py",
   "mimetype": "text/x-python",
   "name": "python",
   "nbconvert_exporter": "python",
   "pygments_lexer": "ipython3",
   "version": "3.9.12"
  }
 },
 "nbformat": 4,
 "nbformat_minor": 5
}
