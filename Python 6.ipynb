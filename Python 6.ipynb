{
 "cells": [
  {
   "cell_type": "markdown",
   "id": "6b46192c",
   "metadata": {},
   "source": [
    "# 1. What are escape characters, and how do you use them?\n",
    "Escape characters represent characters in string like \\t for tab, \\n for new line, etc."
   ]
  },
  {
   "cell_type": "markdown",
   "id": "c3e805fb",
   "metadata": {},
   "source": [
    "# 2. What do the escape characters n and t stand for?\n",
    "\\n is a newline, \\t is a tab"
   ]
  },
  {
   "cell_type": "markdown",
   "id": "221e8cd6",
   "metadata": {},
   "source": [
    "# 3. What is the way to include backslash characters in a string?\n",
    "\\\\\\"
   ]
  },
  {
   "cell_type": "markdown",
   "id": "7ae86a5c",
   "metadata": {},
   "source": [
    "# 4. The string &quot;Howl&#39;s Moving Castle&quot; is a correct value. Why isn&#39;t the single quote character in the word Howl&#39;s not escaped a problem?\n",
    "'Howl\\'s Moving Castle'"
   ]
  },
  {
   "cell_type": "markdown",
   "id": "af010ede",
   "metadata": {},
   "source": [
    "# 5. How do you write a string of newlines if you don&#39;t want to use the n character?\n",
    "\\n or multi line "
   ]
  },
  {
   "cell_type": "code",
   "execution_count": 3,
   "id": "c6aa4f20",
   "metadata": {},
   "outputs": [
    {
     "name": "stdout",
     "output_type": "stream",
     "text": [
      "I am \n",
      "Tushar arora\n"
     ]
    }
   ],
   "source": [
    "# Example:\n",
    "a = '''I am \n",
    "Tushar arora'''\n",
    "print(a)"
   ]
  },
  {
   "cell_type": "markdown",
   "id": "29404c44",
   "metadata": {},
   "source": [
    "# 6. What are the values of the given expressions?\n",
    "- 'Hello, world!'[1] -> 'e'\n",
    "- 'Hello, world!'[0:5] -> 'Hello'\n",
    "- 'Hello, world!'[:5] -> 'Hello'\n",
    "- 'Hello, world!'[3:] -> 'lo, world!'"
   ]
  },
  {
   "cell_type": "markdown",
   "id": "4547fe67",
   "metadata": {},
   "source": [
    "# 7.What are the values of the following expressions ?\n",
    "- 'Hello'.upper() -> 'HELLO'\n",
    "- 'Hello'.upper().isupper() -> True\n",
    "- 'Hello'.upper().lower() -> 'hello'"
   ]
  },
  {
   "cell_type": "markdown",
   "id": "b18e9c93",
   "metadata": {},
   "source": [
    "# 8.What are the values of the following expressions ?\n",
    "&#39;Remember, remember, the fifth of July.&#39;.split()\n",
    "&#39;-&#39;.join(&#39;There can only one.&#39;.split())\n",
    "- ['Remember,', 'remember,', 'the', 'fifith', 'of', 'July.']\n",
    "- 'There-can-only-one'"
   ]
  },
  {
   "cell_type": "markdown",
   "id": "157003a8",
   "metadata": {},
   "source": [
    "# 9. What are the methods for right-justifying, left-justifying, and centering a string?\n",
    "rjust(),ljust(),center()"
   ]
  },
  {
   "cell_type": "markdown",
   "id": "f357c052",
   "metadata": {},
   "source": [
    "# 10. What is the best way to remove whitespace characters from the start or end?\n",
    "lstrip() and rstrip()"
   ]
  },
  {
   "cell_type": "code",
   "execution_count": null,
   "id": "b66b083b",
   "metadata": {},
   "outputs": [],
   "source": []
  }
 ],
 "metadata": {
  "kernelspec": {
   "display_name": "Python 3 (ipykernel)",
   "language": "python",
   "name": "python3"
  },
  "language_info": {
   "codemirror_mode": {
    "name": "ipython",
    "version": 3
   },
   "file_extension": ".py",
   "mimetype": "text/x-python",
   "name": "python",
   "nbconvert_exporter": "python",
   "pygments_lexer": "ipython3",
   "version": "3.9.12"
  }
 },
 "nbformat": 4,
 "nbformat_minor": 5
}
